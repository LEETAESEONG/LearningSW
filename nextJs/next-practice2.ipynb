{
 "cells": [
  {
   "cell_type": "markdown",
   "metadata": {},
   "source": [
    "### How to Create Layouts\n",
    "\n",
    "- layout page에서 children을 놔두고 위에 header, 아래 footer를 넣을 수 있다."
   ]
  },
  {
   "cell_type": "markdown",
   "metadata": {},
   "source": [
    "### 15. Nested Layouts\n",
    "- products의 [productId]에 layout파일을 만든다.\n"
   ]
  },
  {
   "cell_type": "markdown",
   "metadata": {},
   "source": [
    "### 16. Route Group Layout\n",
    "- with-auth-layout 폴더를 만들고\n",
    "- 폴더 안에 login와 register를 이동시킨다.\n",
    "- 그리고 layout.tsx파일을 만든다.\n",
    "- url 경로가 아니므로 (with-auth-layout)로 이름을 묶는다.\n",
    "- 가끔 렉걸리니 종료하고 바꾼다.\n",
    "\n",
    "```\n",
    "(auth) - (with-auth-layout) - layout\n",
    "                            - login\n",
    "                            - register\n",
    "```"
   ]
  }
 ],
 "metadata": {
  "language_info": {
   "name": "python"
  }
 },
 "nbformat": 4,
 "nbformat_minor": 2
}
