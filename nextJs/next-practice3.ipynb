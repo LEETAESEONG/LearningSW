{
 "cells": [
  {
   "cell_type": "markdown",
   "metadata": {},
   "source": [
    "### 21 naviagating programmatically\n",
    "- A사에서 주문을 하고 양식이 성공적으로 완료 되었을 때 제출을 하면 주문 확인 페이지로 리디렉션 된다.\n",
    "- local/order => local/confirm\n",
    "- 주문 => 주문 확인\n",
    "- 여기서는 주문을 하고 홈페이지로 이동하는 핸들러를 구현한다.\n",
    "- order-product폴더를 만들고 page.tsx에\n",
    "```tsx\n",
    "\"use client\";\n",
    "import { useRouter } from \"next/navigation\";\n",
    "\n",
    "export default function OrderProduct() {\n",
    "  const router = useRouter();\n",
    "  const handleClick = () => {\n",
    "    console.log(\"placing your order\");\n",
    "    // home page로 이동\n",
    "    router.push(\"/\");\n",
    "  };\n",
    "  return (\n",
    "    <>\n",
    "      <h1>Order product</h1>\n",
    "      <button onClick={handleClick}>Place Order</button>\n",
    "    </>\n",
    "  );\n",
    "}\n",
    "\n",
    "```\n",
    "- useRouter도 마찬가지로 use client hook을 사용하지 않으면 500에러가 발생한다.\n",
    "- push 대신 replace도 사용 가능\n",
    "```tsx\n",
    "router.replace(\"/\");\n",
    "router.back();\n",
    "router.forward();\n",
    "```\n",
    "- back은 되돌아가기\n",
    "- forward는 다음 페이지"
   ]
  },
  {
   "cell_type": "markdown",
   "metadata": {},
   "source": [
    "### 22 Templates\n",
    "- 입력 요소를 추가하여 사용자로부터 일부 데이터를 수집하기.\n",
    "- (auth)/layout.tsx\n",
    "- useState를 사용하여 입력 받기\n",
    "- layout으로 되어있으면 login register 등으로 이동했을 때 input data가 남아있게 된다.\n",
    "- 이를 해결하기 위해서 template를 사용한다.\n",
    "- 간단하게 layout이름을 template로 바꾼다.\n",
    "- 업데이트 하겠다는 창이 뜨면 확인.\n",
    "- layout > template > page\n"
   ]
  },
  {
   "cell_type": "markdown",
   "metadata": {},
   "source": [
    "### 23 Special Files\n",
    "- page.tsx\n",
    "- layout.tsx\n",
    "- template.tsx\n",
    "- not-found.tsx\n",
    "- loading.tsx <= 이거 공부할거임\n",
    "\n",
    "- loading.tsx\n",
    "    - 콘텐츠가 로드 되는 동안 사용자에게 표시되는 로드 상태를 생성할 수 있다.\n",
    "    - 로드 상태는 탐색 시 즉시 나타나 애플리케이션이 반응하고 콘텐츠를 적극적으로 로드한다는 확신을 사용자에게 제공할 수 있다.\n",
    "\n",
    "    - blog에 loading.tsx를 만든다.\n",
    "    - blog page가 뜨기 전에 잠깐 나타나며 UX를 향상시키는데 도움이 된다.\n",
    "\n",
    "- 장점\n",
    "    - 사용자가 새 경로로 이동하자마자 로드 상태를 표시\n",
    "    - 이 즉각적인 피드백은 사용자에게 자신의 작업이 승인되었음을 확신과 인지를 시킬 수 있다.\n",
    "    - 응용 프로그램의 응답성이 더 높아진 느낌을 준다.\n",
    "        - 다른 기능을 사용하는데도 같은 UI를 제공할 때 사용자가 답답할 수 있으며 이를 loading으로 해결함으로써 사용자는 프로그램과 상호작용을 하고 있다고 느낄 수 있다."
   ]
  }
 ],
 "metadata": {
  "language_info": {
   "name": "python"
  }
 },
 "nbformat": 4,
 "nbformat_minor": 2
}
