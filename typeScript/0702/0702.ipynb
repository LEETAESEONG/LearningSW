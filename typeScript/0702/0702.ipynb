{
 "cells": [
  {
   "cell_type": "markdown",
   "metadata": {},
   "source": [
    "# Core Types\n",
    "- number\n",
    "- string\n",
    "- boolean\n",
    "- object\n",
    "    - ```typescript\n",
    "        const person: {\n",
    "            name: string;\n",
    "            age: number;\n",
    "        } = {\n",
    "            age : 29;\n",
    "            name: \"Lee\"\n",
    "        }\n",
    "        ```\n",
    "- array\n",
    "    - string[]\n",
    "    - number[]\n",
    "- tuple\n",
    "    - ```typescript\n",
    "        interface tupleType {\n",
    "            role: [2, \"author\"];\n",
    "        }\n",
    "        const person: {\n",
    "            name: string;\n",
    "            age: number;\n",
    "            role: [number, string];\n",
    "        } = {\n",
    "            age : 29;\n",
    "            name: \"Lee\";\n",
    "            role: [2, \"author\"];\n",
    "        }\n",
    "        ```\n",
    "    - role이 tuple타입\n",
    "    - 하지만 push는 잡을 수 없다.\n",
    "    - ```typescript\n",
    "        let person: {\n",
    "            name: string;\n",
    "            age: number;\n",
    "            role: [number, string];\n",
    "        } = {\n",
    "            age : 29;\n",
    "            name: \"Lee\"\n",
    "            role: [2, \"author\"];\n",
    "        }\n",
    "        person.role.push(\"1\");\n",
    "        person.role = [2, \"author\", \"2\"];\n",
    "        ```\n",
    "    - 밑은 에러\n",
    "- any"
   ]
  },
  {
   "cell_type": "markdown",
   "metadata": {},
   "source": [
    "# 타입 추론\n",
    "```typescript\n",
    "const str = \"string\";\n",
    "const num = 1;\n",
    "const br = true;\n",
    "```"
   ]
  },
  {
   "cell_type": "markdown",
   "metadata": {},
   "source": [
    "1. “타입”이 바닐라 자바스크립트보다 유용하며 큰 이점을 제공하는 이유\n",
    "    - 타입을 사용하면 잘못된 타입의 데이터가 사용되거나 전달되는지 탐지할 수 있으므로 예기치 않은 런타임 오류를 방지할 수 있다.\n",
    "\n",
    "2. 다음 코드는 컴파일 오류를 발생 시키는지?\n",
    "    ```typescript\n",
    "    let userName: string;\n",
    "    userName = 'Maximilian';\n",
    "    userName = false;\n",
    "    ```\n",
    "    -  “string” 타입이 할당된 변수에 불리언을 할당하는 것은 허용되지 않으며 컴파일 오류가 발생한다 .\n",
    "\n",
    "3. 이 코드는 타입 추론에 의존했나?\n",
    "    ```typescript\n",
    "    const age: number = 29;\n",
    "    ```\n",
    "    - 타입 추론도 가능하지만 현재는 number로 명시함.\n",
    "    - 타입 추론이 가능하므로 number를 생략할 수도 있음.\n",
    "\n",
    "4. 자바스크립트 타입 (예. ``typeof 'Max' => 'string'``)과 타입스크립트 타입 (예. ``const name: string = '...'``)의 차이는 무엇일까?\n",
    "    - 타입스크립트 타입은 컴파일 중에 확인되는 반면, 자바스크립트 타입은 런타임 중에 확인 된다."
   ]
  },
  {
   "cell_type": "markdown",
   "metadata": {},
   "source": [
    "- ADMIN은 0이고 1씩 더해져서 READ_ONLY = 1; AUTHOR = 2가 된다.\n",
    "```typescript\n",
    "enum Role {ADMIN, READ_ONLY, AUTHOR};\n",
    "```\n",
    "- ADMIN이 5이므로 각각 5, 6, 7로 1씩 더해져서 나온다.\n",
    "```typescript\n",
    "enum Role {ADMIN=5, READ_ONLY, AUTHOR};\n",
    "```\n",
    "- 숫자와 문자를 섞을 수도 있다.\n",
    "```typescript\n",
    "enum Role {ADMIN =\"ADMIN\", READ_ONLY = 100, AUTHOR = 500};\n",
    "```"
   ]
  }
 ],
 "metadata": {
  "language_info": {
   "name": "python"
  }
 },
 "nbformat": 4,
 "nbformat_minor": 2
}
